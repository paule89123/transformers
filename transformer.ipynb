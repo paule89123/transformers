{
 "cells": [
  {
   "cell_type": "code",
   "execution_count": null,
   "id": "3a63d145-cd54-42e9-814d-a862c93f8f7d",
   "metadata": {},
   "outputs": [],
   "source": [
    "from transformers import BertTokenizer, BertModel\n",
    "\n",
    "tokenizer = BertTokenizer.from_pretrained('bert-base-uncased')\n",
    "encoder = BertModel.from_pretrained('bert-base-uncased')\n",
    "\n",
    "# Tokenize the input stories\n",
    "input_stories = [...]  # Your list of input stories\n",
    "encoded_inputs = tokenizer(input_stories, padding=True, truncation=True, return_tensors='pt')\n",
    "\n",
    "# Pass the encoded inputs through the BERT encoder\n",
    "with torch.no_grad():\n",
    "    encoder_outputs = encoder(**encoded_inputs)\n",
    "\n",
    "# Use the last hidden state from the encoder as the input to your decoder\n",
    "decoder_inputs = encoder_outputs.last_hidden_state"
   ]
  }
 ],
 "metadata": {
  "kernelspec": {
   "display_name": "Python 3 (ipykernel)",
   "language": "python",
   "name": "python3"
  },
  "language_info": {
   "codemirror_mode": {
    "name": "ipython",
    "version": 3
   },
   "file_extension": ".py",
   "mimetype": "text/x-python",
   "name": "python",
   "nbconvert_exporter": "python",
   "pygments_lexer": "ipython3",
   "version": "3.9.2"
  }
 },
 "nbformat": 4,
 "nbformat_minor": 5
}
